{
  "nbformat": 4,
  "nbformat_minor": 0,
  "metadata": {
    "colab": {
      "provenance": [],
      "authorship_tag": "ABX9TyPuGmLh4VE3slHsfrAkPT3B",
      "include_colab_link": true
    },
    "kernelspec": {
      "name": "python3",
      "display_name": "Python 3"
    },
    "language_info": {
      "name": "python"
    }
  },
  "cells": [
    {
      "cell_type": "markdown",
      "metadata": {
        "id": "view-in-github",
        "colab_type": "text"
      },
      "source": [
        "<a href=\"https://colab.research.google.com/github/PabloDiosquez/Intermediate_Python_Course/blob/main/6_Tips_to_write_Better_For_loops.ipynb\" target=\"_parent\"><img src=\"https://colab.research.google.com/assets/colab-badge.svg\" alt=\"Open In Colab\"/></a>"
      ]
    },
    {
      "cell_type": "code",
      "execution_count": 1,
      "metadata": {
        "colab": {
          "base_uri": "https://localhost:8080/"
        },
        "id": "72a4qDmsFokW",
        "outputId": "5d3a1db3-f333-4396-9d74-078b91ad9a08"
      },
      "outputs": [
        {
          "output_type": "stream",
          "name": "stdout",
          "text": [
            "Python\n",
            "PythonPython\n",
            "PythonPythonPython\n",
            "PythonPythonPythonPython\n",
            "PythonPythonPythonPythonPython\n"
          ]
        }
      ],
      "source": [
        "for i in range(1,6):\n",
        "  print('Python'*i)"
      ]
    },
    {
      "cell_type": "code",
      "source": [
        "# 1) Don´t use loops at all\n",
        "numbers = [10,20,33,40,50,60,75,80]\n",
        "result = 0\n",
        "for number in numbers:\n",
        "  result += number\n",
        "\n",
        "print(result)\n",
        "\n",
        "result = sum(numbers)\n",
        "print(result)"
      ],
      "metadata": {
        "colab": {
          "base_uri": "https://localhost:8080/"
        },
        "id": "M9YeeelBGJFB",
        "outputId": "cbdb2c5d-878a-4802-9372-11a265d7edb8"
      },
      "execution_count": 2,
      "outputs": [
        {
          "output_type": "stream",
          "name": "stdout",
          "text": [
            "368\n",
            "368\n"
          ]
        }
      ]
    },
    {
      "cell_type": "code",
      "source": [
        "# 2) Use enumerate\n",
        "for idx, value in enumerate(numbers, start=1):\n",
        "  print(idx,value)"
      ],
      "metadata": {
        "colab": {
          "base_uri": "https://localhost:8080/"
        },
        "id": "lW8q6-7ZGiIf",
        "outputId": "5abc1cda-8313-4ebf-e3e6-cd0868342057"
      },
      "execution_count": 4,
      "outputs": [
        {
          "output_type": "stream",
          "name": "stdout",
          "text": [
            "1 10\n",
            "2 20\n",
            "3 33\n",
            "4 40\n",
            "5 50\n",
            "6 60\n",
            "7 75\n",
            "8 80\n"
          ]
        }
      ]
    },
    {
      "cell_type": "code",
      "source": [
        "# 3) Use zip\n",
        "a = [1,2,3,4]\n",
        "b = ['a','b','c']\n",
        "for val1, val2 in zip(a,b):\n",
        "  print(val1,val2)"
      ],
      "metadata": {
        "colab": {
          "base_uri": "https://localhost:8080/"
        },
        "id": "sD-5b0f0G-5Y",
        "outputId": "be64a6c5-dbd2-46bd-9f88-902726c699d2"
      },
      "execution_count": 8,
      "outputs": [
        {
          "output_type": "stream",
          "name": "stdout",
          "text": [
            "1 a\n",
            "2 b\n",
            "3 c\n"
          ]
        }
      ]
    },
    {
      "cell_type": "code",
      "source": [
        "# 4) Think lazy! Use a generator\n",
        "events = [('learn,5'),('learn',10),('relaxed',20)]\n",
        "minutes_studied = 0\n",
        "for event in events:\n",
        "  if event[0] == 'learn':\n",
        "    minutes_studied += event[1]\n",
        "print(minutes_studied)\n",
        "\n",
        "study_times = (event[1] for event in events if event[0] == 'learn')\n",
        "minutes_studied = sum(study_times)\n",
        "print(minutes_studied)"
      ],
      "metadata": {
        "colab": {
          "base_uri": "https://localhost:8080/"
        },
        "id": "IrigeW4yHjCx",
        "outputId": "08c8ee8e-899d-49c2-85a3-efdfdd7f7180"
      },
      "execution_count": 10,
      "outputs": [
        {
          "output_type": "stream",
          "name": "stdout",
          "text": [
            "10\n",
            "10\n"
          ]
        }
      ]
    },
    {
      "cell_type": "code",
      "source": [
        "# Use itertools!\n",
        "lines = ['line1','line2','line3','line4','line5','line6','line7','line8','line9','line10',]\n",
        "\n",
        "for i , line in enumerate(lines):\n",
        "  if i == 5:\n",
        "    break\n",
        "  print(line)\n",
        "\n",
        "print()\n",
        "\n",
        "from itertools import islice\n",
        "\n",
        "first_five_lines = islice(lines,5)\n",
        "for line in first_five_lines:\n",
        "  print(line)"
      ],
      "metadata": {
        "colab": {
          "base_uri": "https://localhost:8080/"
        },
        "id": "gT-AUWneJ32p",
        "outputId": "b7b6421b-6ede-404e-d52d-be893b165bdb"
      },
      "execution_count": 13,
      "outputs": [
        {
          "output_type": "stream",
          "name": "stdout",
          "text": [
            "line1\n",
            "line2\n",
            "line3\n",
            "line4\n",
            "line5\n",
            "\n",
            "line1\n",
            "line2\n",
            "line3\n",
            "line4\n",
            "line5\n"
          ]
        }
      ]
    },
    {
      "cell_type": "code",
      "source": [
        "data = 'ABCDEFG'\n",
        "for i in range(len(data)-1):\n",
        "  print(data[i],data[i+1])\n",
        "\n",
        "print()\n",
        "\n",
        "from itertools import pairwise\n",
        "for pair in pairwise('ABCDEFG'):\n",
        "  print(pair[0],pair[1])"
      ],
      "metadata": {
        "id": "ZyLCQjCCLPyq"
      },
      "execution_count": null,
      "outputs": []
    },
    {
      "cell_type": "code",
      "source": [
        "for item in [1,2,3,4,-1,4,1]:\n",
        "  if item >= 0:\n",
        "    print(item)\n",
        "  else:\n",
        "    break\n",
        "\n",
        "print()\n",
        "\n",
        "from itertools import takewhile\n",
        "items = takewhile(lambda x: x >= 0, [1,2,3,4,-1,4,1])\n",
        "for item in items:\n",
        "  print(item)"
      ],
      "metadata": {
        "colab": {
          "base_uri": "https://localhost:8080/"
        },
        "id": "Y5rcagrmNJWi",
        "outputId": "b9e42c93-1d2e-47c2-cde4-0ceff05decc3"
      },
      "execution_count": 24,
      "outputs": [
        {
          "output_type": "stream",
          "name": "stdout",
          "text": [
            "1\n",
            "2\n",
            "3\n",
            "4\n",
            "\n",
            "1\n",
            "2\n",
            "3\n",
            "4\n"
          ]
        }
      ]
    },
    {
      "cell_type": "code",
      "source": [
        "# Use numpy!\n",
        "vec_a = [1,2,3]\n",
        "vec_b = [4,5,6]\n",
        "\n",
        "result = 0\n",
        "for val1, val2 in zip(vec_a,vec_b):\n",
        "  result += val1 * val2\n",
        "print(result)\n",
        "\n",
        "from numpy import dot\n",
        "result = dot(vec_a,vec_b)\n",
        "print(result)"
      ],
      "metadata": {
        "colab": {
          "base_uri": "https://localhost:8080/"
        },
        "id": "T7LtXNgeOBcx",
        "outputId": "773f645c-0a5c-431d-b9de-98bfbb8f67fd"
      },
      "execution_count": 30,
      "outputs": [
        {
          "output_type": "stream",
          "name": "stdout",
          "text": [
            "32\n",
            "32\n"
          ]
        }
      ]
    }
  ]
}