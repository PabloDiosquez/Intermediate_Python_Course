{
  "nbformat": 4,
  "nbformat_minor": 0,
  "metadata": {
    "colab": {
      "provenance": [],
      "authorship_tag": "ABX9TyMRI0U8t2/rXhw7Uii5JKQ6",
      "include_colab_link": true
    },
    "kernelspec": {
      "name": "python3",
      "display_name": "Python 3"
    },
    "language_info": {
      "name": "python"
    }
  },
  "cells": [
    {
      "cell_type": "markdown",
      "metadata": {
        "id": "view-in-github",
        "colab_type": "text"
      },
      "source": [
        "<a href=\"https://colab.research.google.com/github/PabloDiosquez/Intermediate_Python_Course/blob/main/Tuples.ipynb\" target=\"_parent\"><img src=\"https://colab.research.google.com/assets/colab-badge.svg\" alt=\"Open In Colab\"/></a>"
      ]
    },
    {
      "cell_type": "markdown",
      "source": [
        "**Tuple**\n",
        "\n",
        "A tuple is a collection of objects which is ordered and immutable. Tuples are similar to lists, the main difference is the immutability. In Python tuples are written with round brackets and comma separated values.\n",
        "\n",
        "\n",
        "\n",
        "```\n",
        "my_tuple = ('Lio', 23, True)\n",
        "```\n",
        "\n",
        "**Reasons to use a tuple over a list**\n",
        "\n",
        "▪ Generally used for objects that belong together.\n",
        "\n",
        "▪ Use tuple for heterogeneous (different) datatypes and list for homogeneous (similar) datatypes.\n",
        "\n",
        "▪ Since tuple are immutable, iterating through tuple is slightly faster than with list.\n",
        "\n",
        "▪ Tuples with their immutable elements can be used as key for a dictionary. This is not possible with lists.\n",
        "\n",
        "▪ If you have data that doesn´t change, implementing it as tuple will guarantee that it remains write.protected.\n",
        "\n",
        "**Create a tuple**\n",
        "\n",
        "Tuples are created with round brackets and comma separated values. Or use the built-in tuple function.\n"
      ],
      "metadata": {
        "id": "AvTOtMgJLPqY"
      }
    },
    {
      "cell_type": "code",
      "source": [
        "tuple_1 = ('Max',23,\"New York\")\n",
        "tuple_2 = 'Lio', 35, \"Rosario\" # Parentheses are optional ✌\n",
        "\n",
        "# Special case: a tuple with only one element needs to have a comma at the end,\n",
        "# otherwise it is not recognized as tuple.\n",
        "tuple_3 = (25,)\n",
        "\n",
        "print(tuple_1)\n",
        "print(tuple_2)\n",
        "print(tuple_3)\n",
        "\n",
        "# Or convert an iterable (lista, dict, string) with the built-in tuple function\n",
        "tuple_4 = tuple([1,2,3])\n",
        "print(tuple_4)"
      ],
      "metadata": {
        "colab": {
          "base_uri": "https://localhost:8080/"
        },
        "id": "kBQDcRkONuof",
        "outputId": "dd17e24e-9c02-4c31-f1a3-ad20aaada7e1"
      },
      "execution_count": 3,
      "outputs": [
        {
          "output_type": "stream",
          "name": "stdout",
          "text": [
            "('Max', 23, 'New York')\n",
            "('Lio', 35, 'Rosario')\n",
            "(25,)\n",
            "(1, 2, 3)\n"
          ]
        }
      ]
    },
    {
      "cell_type": "markdown",
      "source": [
        "**Access elements**\n",
        "\n",
        "Ypu access the tuple items by referring to the index number. Note that the indices start at 0."
      ],
      "metadata": {
        "id": "MN7Fqeb3PCEo"
      }
    },
    {
      "cell_type": "code",
      "source": [
        "item = tuple_1[0]\n",
        "print(item)\n",
        "# You can also use negative indexing, e.g -1 refers to the last item and\n",
        "# -2 to the second last item, and so on\n",
        "item = tuple_1[-1]\n",
        "print(item)"
      ],
      "metadata": {
        "colab": {
          "base_uri": "https://localhost:8080/"
        },
        "id": "6feuor26PYEW",
        "outputId": "54a7803b-bd72-43d4-d2ca-6dc08ec77348"
      },
      "execution_count": 4,
      "outputs": [
        {
          "output_type": "stream",
          "name": "stdout",
          "text": [
            "Max\n",
            "New York\n"
          ]
        }
      ]
    },
    {
      "cell_type": "markdown",
      "source": [
        "**Add or change items**\n",
        "\n",
        "NOT possible and will raise a TypeError."
      ],
      "metadata": {
        "id": "LCGrzKVrPtA5"
      }
    },
    {
      "cell_type": "code",
      "source": [
        "tuple_1[0] = 'Ross'"
      ],
      "metadata": {
        "colab": {
          "base_uri": "https://localhost:8080/",
          "height": 165
        },
        "id": "qAWHiaqrP17p",
        "outputId": "41f56a2a-30e1-4b8a-ef97-016b20924432"
      },
      "execution_count": 6,
      "outputs": [
        {
          "output_type": "error",
          "ename": "TypeError",
          "evalue": "ignored",
          "traceback": [
            "\u001b[0;31m---------------------------------------------------------------------------\u001b[0m",
            "\u001b[0;31mTypeError\u001b[0m                                 Traceback (most recent call last)",
            "\u001b[0;32m<ipython-input-6-cbe82e327013>\u001b[0m in \u001b[0;36m<module>\u001b[0;34m\u001b[0m\n\u001b[0;32m----> 1\u001b[0;31m \u001b[0mtuple_1\u001b[0m\u001b[0;34m[\u001b[0m\u001b[0;36m0\u001b[0m\u001b[0;34m]\u001b[0m \u001b[0;34m=\u001b[0m \u001b[0;34m'Ross'\u001b[0m\u001b[0;34m\u001b[0m\u001b[0;34m\u001b[0m\u001b[0m\n\u001b[0m",
            "\u001b[0;31mTypeError\u001b[0m: 'tuple' object does not support item assignment"
          ]
        }
      ]
    },
    {
      "cell_type": "markdown",
      "source": [
        "**Delete a tuple**"
      ],
      "metadata": {
        "id": "3SdQCrZjP_Rv"
      }
    },
    {
      "cell_type": "code",
      "source": [
        "del tuple_2"
      ],
      "metadata": {
        "id": "8GgDZ3qJQGsD"
      },
      "execution_count": 7,
      "outputs": []
    },
    {
      "cell_type": "markdown",
      "source": [
        "**Iterating**"
      ],
      "metadata": {
        "id": "Kdf9tdZOQUC5"
      }
    },
    {
      "cell_type": "code",
      "source": [
        "# Iterating over a tuple by using a for loop\n",
        "for i in tuple_1:\n",
        "  print(i) "
      ],
      "metadata": {
        "colab": {
          "base_uri": "https://localhost:8080/"
        },
        "id": "7kFfn8Q3RdRY",
        "outputId": "6e9070bd-b2b9-4449-e8d1-9f93b3c9943c"
      },
      "execution_count": 9,
      "outputs": [
        {
          "output_type": "stream",
          "name": "stdout",
          "text": [
            "Max\n",
            "23\n",
            "New York\n"
          ]
        }
      ]
    },
    {
      "cell_type": "markdown",
      "source": [
        "**Check if an item exists**"
      ],
      "metadata": {
        "id": "f21rwTmoRroH"
      }
    },
    {
      "cell_type": "code",
      "source": [
        "if 'New York' in tuple_1:\n",
        "  print('Yes')\n",
        "else:\n",
        "  print('No')"
      ],
      "metadata": {
        "colab": {
          "base_uri": "https://localhost:8080/"
        },
        "id": "x-eT7wCIRxij",
        "outputId": "38b578e2-a8f3-46da-9d83-f0cd1973ce29"
      },
      "execution_count": 10,
      "outputs": [
        {
          "output_type": "stream",
          "name": "stdout",
          "text": [
            "Yes\n"
          ]
        }
      ]
    },
    {
      "cell_type": "markdown",
      "source": [
        "**Usefule methods**"
      ],
      "metadata": {
        "id": "OXWQZ7BISDzc"
      }
    },
    {
      "cell_type": "code",
      "source": [
        "my_tuple = ('a','p','p','l','e',)\n",
        "\n",
        "# len(): get the number of elements in a tuple\n",
        "print(len(my_tuple))\n",
        "\n",
        "# count(x): Return the number of items that is equal to x\n",
        "print(my_tuple.count('p'))\n",
        "\n",
        "# index(x): Return index of first item that is equal to x\n",
        "print(my_tuple.index('l'))\n",
        "\n",
        "# repetition\n",
        "my_tuple = ('a','b',) * 5\n",
        "print(my_tuple)\n",
        "\n",
        "# concatenation\n",
        "my_tuple = (1,2,3) + (4,5,6)\n",
        "print(my_tuple)\n",
        "\n",
        "# convert list to a tuple and vice versa\n",
        "my_list = ['a','b','c','d',]\n",
        "list_to_tuple = tuple(my_list)\n",
        "print(list_to_tuple)\n",
        "\n",
        "tuple_to_list = list(list_to_tuple)\n",
        "print(tuple_to_list)\n",
        "\n",
        "# convert string to tuple \n",
        "string_to_tuple = tuple('Hello')\n",
        "print(string_to_tuple)"
      ],
      "metadata": {
        "colab": {
          "base_uri": "https://localhost:8080/"
        },
        "id": "nRtTb7SMSIfc",
        "outputId": "bbf3cb8a-fe54-43cc-cd89-219a2c822404"
      },
      "execution_count": 23,
      "outputs": [
        {
          "output_type": "stream",
          "name": "stdout",
          "text": [
            "5\n",
            "2\n",
            "3\n",
            "('a', 'b', 'a', 'b', 'a', 'b', 'a', 'b', 'a', 'b')\n",
            "(1, 2, 3, 4, 5, 6)\n",
            "('a', 'b', 'c', 'd')\n",
            "['a', 'b', 'c', 'd']\n",
            "('H', 'e', 'l', 'l', 'o')\n"
          ]
        }
      ]
    }
  ]
}