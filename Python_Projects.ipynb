{
  "nbformat": 4,
  "nbformat_minor": 0,
  "metadata": {
    "colab": {
      "provenance": [],
      "authorship_tag": "ABX9TyNxWfCOXVZPh9jT+wdvMvlo",
      "include_colab_link": true
    },
    "kernelspec": {
      "name": "python3",
      "display_name": "Python 3"
    },
    "language_info": {
      "name": "python"
    }
  },
  "cells": [
    {
      "cell_type": "markdown",
      "metadata": {
        "id": "view-in-github",
        "colab_type": "text"
      },
      "source": [
        "<a href=\"https://colab.research.google.com/github/PabloDiosquez/Intermediate_Python_Course/blob/main/Python_Projects.ipynb\" target=\"_parent\"><img src=\"https://colab.research.google.com/assets/colab-badge.svg\" alt=\"Open In Colab\"/></a>"
      ]
    },
    {
      "cell_type": "markdown",
      "source": [
        "Madlibs"
      ],
      "metadata": {
        "id": "78BP6DjuGWZY"
      }
    },
    {
      "cell_type": "code",
      "source": [
        "# string concatenation  (aka how to put strings together)\n",
        "# Suppose we want to create a string that says \"Subscribe to _______\"\n",
        "# youtuber = 'Rubius' # some string variable\n",
        "\n",
        "# a few ways to do this\n",
        "# print('Subscribe to ' + youtuber)\n",
        "# print('Subscribe to {}'.format(youtuber))\n",
        "# print(f'Subscribe to {youtuber}')\n",
        "\n",
        "adj = input('Adjective: ')\n",
        "verb1 = input('Verb: ')\n",
        "verb2 = input('Verb: ')\n",
        "famous_person = input('Famous person: ')\n",
        "\n",
        "madLib = f'Computer programming is so {adj}! It makes me so excited all the time because \\\n",
        "I love to {verb1}. Stay hydrated and {verb2} like you are {famous_person}.'\n",
        "\n",
        "print(madLib)"
      ],
      "metadata": {
        "colab": {
          "base_uri": "https://localhost:8080/"
        },
        "id": "zkhzv7GpFWLP",
        "outputId": "4d24b113-ab70-4a7b-99fb-df858fb5f319"
      },
      "execution_count": null,
      "outputs": [
        {
          "output_type": "stream",
          "name": "stdout",
          "text": [
            "Adjective: amazing\n",
            "Verb: skydive\n",
            "Verb: jump\n",
            "Famous person: Superman\n",
            "Computer programming is so amazing! It makes me so excited all the time because I love to skydive. Stay hydrated and jump like you are Superman.\n"
          ]
        }
      ]
    },
    {
      "cell_type": "markdown",
      "source": [
        "Guess the number (computer)"
      ],
      "metadata": {
        "id": "bdIqJRbzIApy"
      }
    },
    {
      "cell_type": "code",
      "source": [
        "from random import randint\n",
        "\n",
        "\"\"\"random.randint(a, b)\n",
        "Return a random integer N such that a <= N <= b. Alias for randrange(a, b+1).\"\"\"\n",
        "\n",
        "def guess(x):\n",
        "  random_number = randint(1,x)\n",
        "  while True:\n",
        "    guess = int(input(f'Guess a number between 1 and {x}: '))\n",
        "    if guess == random_number:\n",
        "      break\n",
        "    elif guess > random_number:\n",
        "        print('Sorry, guess again. Too high')\n",
        "    else:\n",
        "        print('Sorry, guess again. Too low')\n",
        "  \n",
        "  print(f'Yay, congrats. You have guessed the number {random_number} correctly!!')\n",
        "\n",
        "guess(10)"
      ],
      "metadata": {
        "colab": {
          "base_uri": "https://localhost:8080/"
        },
        "id": "8syKDqlyID6Z",
        "outputId": "b6f22281-0466-4cf9-d74a-0519eb286bec"
      },
      "execution_count": null,
      "outputs": [
        {
          "output_type": "stream",
          "name": "stdout",
          "text": [
            "Guess a number between 1 and 10: 5\n",
            "Sorry, guess again. Too high\n",
            "Guess a number between 1 and 10: 1\n",
            "Sorry, guess again. Too low\n",
            "Guess a number between 1 and 10: 3\n",
            "Yay, congrats. You have guessed the number 3 correctly!!\n"
          ]
        }
      ]
    },
    {
      "cell_type": "markdown",
      "source": [
        "Guess the number (user)"
      ],
      "metadata": {
        "id": "HEu2m3yXNl22"
      }
    },
    {
      "cell_type": "code",
      "source": [
        "from random import randint\n",
        "\n",
        "def computer_guess(x):\n",
        "  low = 1\n",
        "  high = x\n",
        "  feedback = ''\n",
        "  while feedback != 'c':\n",
        "    if low != high:\n",
        "      guess = randint(low,high)\n",
        "    else:\n",
        "      guess = low\n",
        "    print(guess)\n",
        "    feedback = input(f'Is {guess} correct (C), too high (H) or too low (L)?\\n').lower()\n",
        "    if feedback == 'h':\n",
        "      high = guess - 1\n",
        "      guess = randint(low,high)\n",
        "    elif feedback == 'l':\n",
        "      low = guess + 1\n",
        "      guess = randint(low,high)\n",
        "  print(f'Yay, the computer guessed your number {guess} correctly!!')\n",
        "  \n",
        "computer_guess(1000)"
      ],
      "metadata": {
        "colab": {
          "base_uri": "https://localhost:8080/"
        },
        "id": "wTn8j7h8ToCK",
        "outputId": "5c2f41e5-38f9-41b3-e77f-c08e28ff1894"
      },
      "execution_count": null,
      "outputs": [
        {
          "output_type": "stream",
          "name": "stdout",
          "text": [
            "473\n",
            "Is 473 correct (C), too high (H) or too low (L)?\n",
            "L\n",
            "969\n",
            "Is 969 correct (C), too high (H) or too low (L)?\n",
            "H\n",
            "947\n",
            "Is 947 correct (C), too high (H) or too low (L)?\n",
            "H\n",
            "692\n",
            "Is 692 correct (C), too high (H) or too low (L)?\n",
            "H\n",
            "474\n",
            "Is 474 correct (C), too high (H) or too low (L)?\n",
            "L\n",
            "486\n",
            "Is 486 correct (C), too high (H) or too low (L)?\n",
            "L\n",
            "512\n",
            "Is 512 correct (C), too high (H) or too low (L)?\n",
            "L\n",
            "665\n",
            "Is 665 correct (C), too high (H) or too low (L)?\n",
            "H\n",
            "615\n",
            "Is 615 correct (C), too high (H) or too low (L)?\n",
            "H\n",
            "606\n",
            "Is 606 correct (C), too high (H) or too low (L)?\n",
            "H\n",
            "545\n",
            "Is 545 correct (C), too high (H) or too low (L)?\n",
            "L\n",
            "570\n",
            "Is 570 correct (C), too high (H) or too low (L)?\n",
            "L\n",
            "605\n",
            "Is 605 correct (C), too high (H) or too low (L)?\n",
            "H\n",
            "583\n",
            "Is 583 correct (C), too high (H) or too low (L)?\n",
            "L\n",
            "589\n",
            "Is 589 correct (C), too high (H) or too low (L)?\n",
            "H\n",
            "586\n",
            "Is 586 correct (C), too high (H) or too low (L)?\n",
            "L\n",
            "587\n",
            "Is 587 correct (C), too high (H) or too low (L)?\n",
            "C\n",
            "Yay, the computer guessed your number 587 correctly!!\n"
          ]
        }
      ]
    },
    {
      "cell_type": "markdown",
      "source": [
        "Rock Paper Scissors"
      ],
      "metadata": {
        "id": "TpUViEHI4zqx"
      }
    },
    {
      "cell_type": "code",
      "source": [
        "import random \n",
        "\n",
        "def is_win(player,opponent):\n",
        "  # return true if player wins\n",
        "  # r > s, s > p, p > r\n",
        "  return (player == 'r' and opponent == 's') or (player == 's' and opponent == 'p') or (player == 'p' and opponent == 'r')\n",
        "\n",
        "def play():\n",
        "  user = input(\"What´s your choice? 'r' for rock, 'p' for paper, 's for scissors: \\n\")\n",
        "  computer = random.choice(['r','p','s'])\n",
        "  \n",
        "  if user == computer:\n",
        "    return 'Tt´s a tie'\n",
        "\n",
        "  elif is_win(user,computer):\n",
        "    return 'You won!'\n",
        "\n",
        "  return 'You lost!' \n",
        "\n",
        "play() "
      ],
      "metadata": {
        "colab": {
          "base_uri": "https://localhost:8080/",
          "height": 72
        },
        "id": "kiKWVB5s4z_P",
        "outputId": "a99fcf03-c4d0-4481-e2d0-1e7b8a460d2f"
      },
      "execution_count": null,
      "outputs": [
        {
          "name": "stdout",
          "output_type": "stream",
          "text": [
            "What´s your choice? 'r' for rock, 'p' for paper, 's for scissors: \n",
            "r\n"
          ]
        },
        {
          "output_type": "execute_result",
          "data": {
            "text/plain": [
              "'You won!'"
            ],
            "application/vnd.google.colaboratory.intrinsic+json": {
              "type": "string"
            }
          },
          "metadata": {},
          "execution_count": 18
        }
      ]
    },
    {
      "cell_type": "markdown",
      "source": [
        "Hangman"
      ],
      "metadata": {
        "id": "H-l1vSH5HqwZ"
      }
    },
    {
      "cell_type": "code",
      "source": [
        "from words import words\n",
        "import string\n",
        "\n",
        "def get_valid_word(words):\n",
        "  # Randomly chooses something valid from the list\n",
        "  while True:\n",
        "    word = random.choice(words)\n",
        "    if ' ' not in word and  '-' not in word:\n",
        "      break\n",
        "  \n",
        "  return word.upper()\n",
        "\n",
        "def hangman():\n",
        "  word = get_valid_word(words)\n",
        "  word_letters = set(word) # letters in the word\n",
        "  alphabet = set(string.ascii_uppercase)\n",
        "  used_letters = set() # what the user has guessed\n",
        "  lives = 6\n",
        "\n",
        "  # getting user input\n",
        "  while len(word_letters) > 0 and lives > 0:\n",
        "    # letters used \n",
        "    print('You have',lives,'lives.','You have used these letters: ',' '.join(used_letters) )\n",
        "    # ' '.join(['a','b','c']) --> 'a b c'\n",
        "\n",
        "    # what current word is (ie W - R D)\n",
        "    word_list = [letter if letter in used_letters else '-' for letter in word]\n",
        "    print('Current word: ',' '.join(word_list))\n",
        "\n",
        "    user_letter = input('Guess a letter: ').upper()\n",
        "    if user_letter in alphabet - used_letters:\n",
        "      used_letters.add(user_letter)\n",
        "      if user_letter in word_letters:\n",
        "        word_letters.remove(user_letter)\n",
        "\n",
        "      else:\n",
        "        lives = lives - 1\n",
        "        print('Letter is not in the word')\n",
        "\n",
        "    elif user_letter in used_letters:\n",
        "      print('You have already used that character. Please try again') \n",
        "\n",
        "    else:\n",
        "      print('Invalid character. Please try again')\n",
        "    \n",
        "  if lives == 0:\n",
        "    print(f'You died, sorry. The word was {word}')\n",
        "  else:\n",
        "    print(f'\\You guessed the word: {word}!!')\n",
        "\n",
        "hangman()"
      ],
      "metadata": {
        "colab": {
          "base_uri": "https://localhost:8080/"
        },
        "id": "hT1J3eteK1hu",
        "outputId": "41b2d939-ff05-4cf1-b7dd-23c79b5e9fcd"
      },
      "execution_count": null,
      "outputs": [
        {
          "output_type": "stream",
          "name": "stdout",
          "text": [
            "You have 6 lives. You have used these letters:  \n",
            "Current word:  - - -\n",
            "Guess a letter: A\n",
            "Letter is not in the word\n",
            "You have 5 lives. You have used these letters:  A\n",
            "Current word:  - - -\n",
            "Guess a letter: E\n",
            "You have 5 lives. You have used these letters:  E A\n",
            "Current word:  - E -\n",
            "Guess a letter: T\n",
            "Letter is not in the word\n",
            "You have 4 lives. You have used these letters:  E A T\n",
            "Current word:  - E -\n",
            "Guess a letter: P\n",
            "Letter is not in the word\n",
            "You have 3 lives. You have used these letters:  E A P T\n",
            "Current word:  - E -\n",
            "Guess a letter: L\n",
            "Letter is not in the word\n",
            "You have 2 lives. You have used these letters:  A P E L T\n",
            "Current word:  - E -\n",
            "Guess a letter: K\n",
            "You have 2 lives. You have used these letters:  A P E L T K\n",
            "Current word:  K E -\n",
            "Guess a letter: O\n",
            "Letter is not in the word\n",
            "You have 1 lives. You have used these letters:  A P O E L T K\n",
            "Current word:  K E -\n",
            "Guess a letter: N\n",
            "Letter is not in the word\n",
            "You died, sorry. The word was KEY\n"
          ]
        }
      ]
    }
  ]
}