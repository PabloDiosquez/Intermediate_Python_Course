{
  "nbformat": 4,
  "nbformat_minor": 0,
  "metadata": {
    "colab": {
      "provenance": [],
      "authorship_tag": "ABX9TyOBT+yV4LdFZk29YMjB6y0Y",
      "include_colab_link": true
    },
    "kernelspec": {
      "name": "python3",
      "display_name": "Python 3"
    },
    "language_info": {
      "name": "python"
    }
  },
  "cells": [
    {
      "cell_type": "markdown",
      "metadata": {
        "id": "view-in-github",
        "colab_type": "text"
      },
      "source": [
        "<a href=\"https://colab.research.google.com/github/PabloDiosquez/Intermediate_Python_Course/blob/main/01_Lists.ipynb\" target=\"_parent\"><img src=\"https://colab.research.google.com/assets/colab-badge.svg\" alt=\"Open In Colab\"/></a>"
      ]
    },
    {
      "cell_type": "markdown",
      "source": [
        "**Lists**\n",
        "\n",
        "List is a collection data type which is ordered and mutable. Unlike Sets, Lists allow duplicate elements. They are useful for preserving a sequence of data and further iterating over it. Lists are created with a square brackets.\n",
        "\n",
        "\n",
        "\n",
        "```\n",
        "my_list = ['banana', 'cherry', 'apple']\n",
        "```\n",
        "\n",
        "***Comparison of basic built-in collection data types in Python:***\n",
        "\n",
        "✔ List is a collection which is ordered and mutable. Allows duplicate members.\n",
        "\n",
        "✔ Tuple is a collection which is ordered an immutable. Allows duplicate members.\n",
        "\n",
        "✔ Set is a collection which is unordered and unindexed. No duplicate members.\n",
        "\n",
        "✔ Dictionary is a collection which is unordered mutable and indexed. No duplicate members.\n",
        "\n",
        "✔ Strings are immutable sequences of Unicode code points.\n"
      ],
      "metadata": {
        "id": "WjaRl8vXDMW2"
      }
    },
    {
      "cell_type": "markdown",
      "source": [
        "**Creating a list**\n",
        "\n",
        "Lists are created with square brackets or the built-in list function."
      ],
      "metadata": {
        "id": "F8wuzuJMFzjn"
      }
    },
    {
      "cell_type": "code",
      "source": [
        "list_1 = ['🍌', '🍓', '🍎']\n",
        "print(list_1)\n",
        "\n",
        "# Or create an empty list with the list function\n",
        "list_2 = list()\n",
        "print(list_2)\n",
        "\n",
        "# Lists allow different data types\n",
        "list_3 = [5,'🍎',True]\n",
        "print(list_3)\n",
        "\n",
        "# Lists allow duplicates\n",
        "list_4 = [0,0,1,1]\n",
        "print(list_4)"
      ],
      "metadata": {
        "colab": {
          "base_uri": "https://localhost:8080/"
        },
        "id": "nhhrfSyoGG3F",
        "outputId": "b9525e6b-6918-46c5-fc8e-b0a30cbf9824"
      },
      "execution_count": null,
      "outputs": [
        {
          "output_type": "stream",
          "name": "stdout",
          "text": [
            "['🍌', '🍓', '🍎']\n",
            "[]\n",
            "[5, '🍎', True]\n",
            "[0, 0, 1, 1]\n"
          ]
        }
      ]
    },
    {
      "cell_type": "markdown",
      "source": [
        "**Access elements**\n",
        "\n",
        "You access the list items by referring to the index number. Note that the indices start at 0."
      ],
      "metadata": {
        "id": "jZsEoHwrG83k"
      }
    },
    {
      "cell_type": "code",
      "source": [
        "item = list_1[0]\n",
        "print(item)\n",
        "\n",
        "# You can also use negative indexing; e.g -1 refers to the last item,\n",
        "# -2 to the second last ite, and so on...\n",
        "item = list_1[-1]\n",
        "print(item) "
      ],
      "metadata": {
        "colab": {
          "base_uri": "https://localhost:8080/"
        },
        "id": "QFtrCREmHVAD",
        "outputId": "d379b03e-3ebf-4772-ea5c-52483eca100b"
      },
      "execution_count": null,
      "outputs": [
        {
          "output_type": "stream",
          "name": "stdout",
          "text": [
            "🍌\n",
            "🍎\n"
          ]
        }
      ]
    },
    {
      "cell_type": "markdown",
      "source": [
        "**Change items**\n",
        "\n",
        "Just refer to the index number and assign a new value."
      ],
      "metadata": {
        "id": "Q72qsnXLHw4-"
      }
    },
    {
      "cell_type": "code",
      "source": [
        "# Lists can be altered after their creation.\n",
        "list_1[2] = '🍉'\n",
        "print(list_1)"
      ],
      "metadata": {
        "colab": {
          "base_uri": "https://localhost:8080/"
        },
        "id": "HTNmGOl7H7vH",
        "outputId": "f8843ce8-90d4-4087-c5e4-31b05167f6a3"
      },
      "execution_count": null,
      "outputs": [
        {
          "output_type": "stream",
          "name": "stdout",
          "text": [
            "['🍌', '🍓', '🍉']\n"
          ]
        }
      ]
    },
    {
      "cell_type": "markdown",
      "source": [
        "**Useful methods**\n",
        "\n",
        "Have a look at the Python Documentation to see all list methods:\n",
        "\n",
        "https://docs.python.org/3/tutorial/datastructures.html"
      ],
      "metadata": {
        "id": "iPaNR1fxIn_m"
      }
    },
    {
      "cell_type": "code",
      "source": [
        "my_list = ['🍕','🍔','🍗','🥓','🍟']\n",
        "\n",
        "# len() : get the number of elements in a list\n",
        "print(f'Length: {len(my_list)}')\n",
        "\n",
        "# append() : adds an element to the end of a list\n",
        "my_list.append('🍣')\n",
        "\n",
        "# insert() : adds an element at the specified position\n",
        "my_list.insert(1,'🥨')\n",
        "print(my_list) \n",
        "\n",
        "# pop() : removes and return the item at the given position; default is the last \n",
        "item = my_list.pop()\n",
        "print(f'Popped item: {item}')\n",
        "\n",
        "# remove() : removes an item from the list\n",
        "my_list.remove('🥓') # Value error if not in the list\n",
        "print(my_list)\n",
        "\n",
        "# clear() : removes all items from the list \n",
        "my_list.clear()\n",
        "print(my_list)\n",
        "\n",
        "# reverse() : reverse the items\n",
        "my_list = ['🍕', '🥨', '🍔', '🍗', '🥓', '🍟', '🍣']\n",
        "my_list.reverse()\n",
        "print(my_list)\n",
        "\n",
        "# sort : sort items in ascending order\n",
        "my_list.sort()\n",
        "print(my_list)\n",
        "\n",
        "# use sorted() to get a new list, and leave the original unaffected.\n",
        "# sorted() works on any iterable type, not just lists.\n",
        "new_list = sorted(my_list)\n",
        "print(new_list)\n",
        "\n",
        "# create list with repeated elements\n",
        "list_with_zeros = [0] * 10\n",
        "print(list_with_zeros)\n",
        "\n",
        "# concatenation \n",
        "list_concat = list_with_zeros + my_list\n",
        "print(list_concat)\n",
        "\n",
        "# convert string to list\n",
        "string_to_list = list('Hello')\n",
        "print(string_to_list)"
      ],
      "metadata": {
        "colab": {
          "base_uri": "https://localhost:8080/"
        },
        "id": "WZz0qy2XJB00",
        "outputId": "5e295d2d-d655-43b7-b145-446c9160dd46"
      },
      "execution_count": null,
      "outputs": [
        {
          "output_type": "stream",
          "name": "stdout",
          "text": [
            "Length: 5\n",
            "['🍕', '🥨', '🍔', '🍗', '🥓', '🍟', '🍣']\n",
            "Popped item: 🍣\n",
            "['🍕', '🥨', '🍔', '🍗', '🍟']\n",
            "[]\n",
            "['🍣', '🍟', '🥓', '🍗', '🍔', '🥨', '🍕']\n",
            "['🍔', '🍕', '🍗', '🍟', '🍣', '🥓', '🥨']\n",
            "['🍔', '🍕', '🍗', '🍟', '🍣', '🥓', '🥨']\n",
            "[0, 0, 0, 0, 0, 0, 0, 0, 0, 0]\n",
            "[0, 0, 0, 0, 0, 0, 0, 0, 0, 0, '🍔', '🍕', '🍗', '🍟', '🍣', '🥓', '🥨']\n",
            "['H', 'e', 'l', 'l', 'o']\n"
          ]
        }
      ]
    },
    {
      "cell_type": "markdown",
      "source": [
        "**Copy a list**\n",
        "\n",
        "Be careful when copying references ☢"
      ],
      "metadata": {
        "id": "44I5NS5dNDVO"
      }
    },
    {
      "cell_type": "code",
      "source": [
        "list_org = ['🍌','🍉','🍋']\n",
        "\n",
        "# this just copies the reference to the list, so be careful\n",
        "list_copy = list_org\n",
        "\n",
        "# now modifying the copy also affects the original\n",
        "list_copy.append('🐶')\n",
        "print(list_copy)\n",
        "print(list_org)\n",
        "\n",
        "# use copy(), or list(x) to actually copy the list\n",
        "# sciling also works: list_copy = list_org[:]\n",
        "list_org = ['🍌','🍉','🍋']\n",
        "\n",
        "list_copy = list_org.copy()\n",
        "# list_copy = list(list_org)\n",
        "# list_copy = list_org[:]\n",
        "\n",
        "# now modifying the copy does not affect the original.\n",
        "list_copy.append('🥩') \n",
        "print(list_copy)\n",
        "print(list_org)"
      ],
      "metadata": {
        "colab": {
          "base_uri": "https://localhost:8080/"
        },
        "id": "3D7k11wsNQxM",
        "outputId": "43769ee9-3320-4fcc-9ca3-71a52d89b30c"
      },
      "execution_count": null,
      "outputs": [
        {
          "output_type": "stream",
          "name": "stdout",
          "text": [
            "['🍌', '🍉', '🍋', '🐶']\n",
            "['🍌', '🍉', '🍋', '🐶']\n",
            "['🍌', '🍉', '🍋', '🥩']\n",
            "['🍌', '🍉', '🍋']\n"
          ]
        }
      ]
    },
    {
      "cell_type": "markdown",
      "source": [
        "**Iterating**"
      ],
      "metadata": {
        "id": "poZH1V4xPCKd"
      }
    },
    {
      "cell_type": "code",
      "source": [
        "# Iterating over a list by using a for in loop\n",
        "for fruit in list_1:\n",
        "  print(fruit)"
      ],
      "metadata": {
        "colab": {
          "base_uri": "https://localhost:8080/"
        },
        "id": "1phF4e8MPFn6",
        "outputId": "59b93daa-2757-40fb-e09c-69df7de6451f"
      },
      "execution_count": null,
      "outputs": [
        {
          "output_type": "stream",
          "name": "stdout",
          "text": [
            "🍌\n",
            "🍓\n",
            "🍉\n"
          ]
        }
      ]
    },
    {
      "cell_type": "markdown",
      "source": [
        "**Check if an item exists**"
      ],
      "metadata": {
        "id": "tEofm_RCPSN1"
      }
    },
    {
      "cell_type": "code",
      "source": [
        "if '🍐' in list_1:\n",
        "  print('Yes')\n",
        "else:\n",
        "  print('No')"
      ],
      "metadata": {
        "colab": {
          "base_uri": "https://localhost:8080/"
        },
        "id": "1oEKUF_BPZpq",
        "outputId": "2e90e52c-d89c-4ea5-d5f0-3e7b846d0287"
      },
      "execution_count": null,
      "outputs": [
        {
          "output_type": "stream",
          "name": "stdout",
          "text": [
            "No\n"
          ]
        }
      ]
    },
    {
      "cell_type": "markdown",
      "source": [
        "**Slicing**\n",
        "\n",
        "Access sub parts of the list with the use of colon (:), just as with strings."
      ],
      "metadata": {
        "id": "3jAQm7U0FLYB"
      }
    },
    {
      "cell_type": "code",
      "source": [
        "# a[start:stop:step], default step is 1\n",
        "a = [1,2,3,4,5,6,7,8,9,10,]\n",
        "b = a[1:3] # Note that the last index is not included\n",
        "print(b)\n",
        "b = a[1:] # until the end\n",
        "print(b)\n",
        "b = a[:6] # from beginning\n",
        "print(b)\n",
        "a[0:3] = [0] # replace sub-parts, you need an iterable here\n",
        "print(a)\n",
        "b = a[::2] # start to the end with every second item\n",
        "print(b)\n",
        "b = a[::-1] # reverse the list with a negative step\n",
        "print(b)\n",
        "b = a[::] # copy a list with slicing\n",
        "print(b)"
      ],
      "metadata": {
        "colab": {
          "base_uri": "https://localhost:8080/"
        },
        "id": "ihP4APcyFf5g",
        "outputId": "9d7ce901-85c8-4c9b-bfc7-4606848bc2cc"
      },
      "execution_count": 6,
      "outputs": [
        {
          "output_type": "stream",
          "name": "stdout",
          "text": [
            "[2, 3]\n",
            "[2, 3, 4, 5, 6, 7, 8, 9, 10]\n",
            "[1, 2, 3, 4, 5, 6]\n",
            "[0, 4, 5, 6, 7, 8, 9, 10]\n",
            "[0, 5, 7, 9]\n",
            "[10, 9, 8, 7, 6, 5, 4, 0]\n",
            "[0, 4, 5, 6, 7, 8, 9, 10]\n"
          ]
        }
      ]
    },
    {
      "cell_type": "markdown",
      "source": [
        "**List comprehension**\n",
        "\n",
        "An elegant and fast way to create a new list from an existing list.\n",
        "\n",
        "List comprehension consist of an expresion followed by a for statement inside square brackets. "
      ],
      "metadata": {
        "id": "xUo-mrdPHIC7"
      }
    },
    {
      "cell_type": "code",
      "source": [
        "a = [1,2,3,4,5,6]\n",
        "b = [i ** 2 for i in a] # squares each element\n",
        "print(b)"
      ],
      "metadata": {
        "colab": {
          "base_uri": "https://localhost:8080/"
        },
        "id": "tFGdlnFDHjbm",
        "outputId": "2568fcca-a763-4d88-c3ed-21feb660a6c8"
      },
      "execution_count": 8,
      "outputs": [
        {
          "output_type": "stream",
          "name": "stdout",
          "text": [
            "[1, 4, 9, 16, 25, 36]\n"
          ]
        }
      ]
    },
    {
      "cell_type": "markdown",
      "source": [
        "**Nested lists**\n",
        "\n",
        "List can contain other lists (or other container types)"
      ],
      "metadata": {
        "id": "YZ0twi2AHzYV"
      }
    },
    {
      "cell_type": "code",
      "source": [
        "a = [[1,2],[3,4]]\n",
        "print(a)\n",
        "print(a[1])\n",
        "print(a[1][1])"
      ],
      "metadata": {
        "colab": {
          "base_uri": "https://localhost:8080/"
        },
        "id": "kgYITUOMH9Sn",
        "outputId": "9e7f622f-a36c-47ba-c83b-c67d233cd01e"
      },
      "execution_count": 11,
      "outputs": [
        {
          "output_type": "stream",
          "name": "stdout",
          "text": [
            "[[1, 2], [3, 4]]\n",
            "[3, 4]\n",
            "4\n"
          ]
        }
      ]
    }
  ]
}