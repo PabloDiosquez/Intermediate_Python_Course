{
  "nbformat": 4,
  "nbformat_minor": 0,
  "metadata": {
    "colab": {
      "provenance": [],
      "authorship_tag": "ABX9TyNSGNVqVe/f7HYbp/WRaPGY",
      "include_colab_link": true
    },
    "kernelspec": {
      "name": "python3",
      "display_name": "Python 3"
    },
    "language_info": {
      "name": "python"
    }
  },
  "cells": [
    {
      "cell_type": "markdown",
      "metadata": {
        "id": "view-in-github",
        "colab_type": "text"
      },
      "source": [
        "<a href=\"https://colab.research.google.com/github/PabloDiosquez/Intermediate_Python_Course/blob/main/01_Lists.ipynb\" target=\"_parent\"><img src=\"https://colab.research.google.com/assets/colab-badge.svg\" alt=\"Open In Colab\"/></a>"
      ]
    },
    {
      "cell_type": "markdown",
      "source": [
        "**Lists**\n",
        "\n",
        "List is a collection data type which is ordered and mutable. Unlike Sets, Lists allow duplicate elements. They are useful for preserving a sequence of data and further iterating over it. Lists are created with a square brackets.\n",
        "\n",
        "\n",
        "\n",
        "```\n",
        "my_list = ['banana', 'cherry', 'apple']\n",
        "```\n",
        "\n",
        "***Comparison of basic built-in collection data types in Python:***\n",
        "\n",
        "✔ List is a collection which is ordered and mutable. Allows duplicate members.\n",
        "\n",
        "✔ Tuple is a collection which is ordered an immutable. Allows duplicate members.\n",
        "\n",
        "✔ Set is a collection which is unordered and unindexed. No duplicate members.\n",
        "\n",
        "✔ Dictionary is a collection which is unordered mutable and indexed. No duplicate members.\n",
        "\n",
        "✔ Strings are immutable sequences of Unicode code points.\n"
      ],
      "metadata": {
        "id": "WjaRl8vXDMW2"
      }
    },
    {
      "cell_type": "markdown",
      "source": [
        "**Creating a list**\n",
        "\n",
        "Lists are created with square brackets or the built-in list function."
      ],
      "metadata": {
        "id": "F8wuzuJMFzjn"
      }
    },
    {
      "cell_type": "code",
      "source": [
        "list_1 = ['🍌', '🍓', '🍎']\n",
        "print(list_1)\n",
        "\n",
        "# Or create an empty list with the list function\n",
        "list_2 = list()\n",
        "print(list_2)\n",
        "\n",
        "# Lists allow different data types\n",
        "list_3 = [5,'🍎',True]\n",
        "print(list_3)\n",
        "\n",
        "# Lists allow duplicates\n",
        "list_4 = [0,0,1,1]\n",
        "print(list_4)"
      ],
      "metadata": {
        "colab": {
          "base_uri": "https://localhost:8080/"
        },
        "id": "nhhrfSyoGG3F",
        "outputId": "b9525e6b-6918-46c5-fc8e-b0a30cbf9824"
      },
      "execution_count": 3,
      "outputs": [
        {
          "output_type": "stream",
          "name": "stdout",
          "text": [
            "['🍌', '🍓', '🍎']\n",
            "[]\n",
            "[5, '🍎', True]\n",
            "[0, 0, 1, 1]\n"
          ]
        }
      ]
    },
    {
      "cell_type": "markdown",
      "source": [
        "**Access elements**\n",
        "\n",
        "You access the list items by referring to the index number. Note that the indices start at 0."
      ],
      "metadata": {
        "id": "jZsEoHwrG83k"
      }
    },
    {
      "cell_type": "code",
      "source": [
        "item = list_1[0]\n",
        "print(item)\n",
        "\n",
        "# You can also use negative indexing; e.g -1 refers to the last item,\n",
        "# -2 to the second last ite, and so on...\n",
        "item = list_1[-1]\n",
        "print(item) "
      ],
      "metadata": {
        "colab": {
          "base_uri": "https://localhost:8080/"
        },
        "id": "QFtrCREmHVAD",
        "outputId": "d379b03e-3ebf-4772-ea5c-52483eca100b"
      },
      "execution_count": 5,
      "outputs": [
        {
          "output_type": "stream",
          "name": "stdout",
          "text": [
            "🍌\n",
            "🍎\n"
          ]
        }
      ]
    },
    {
      "cell_type": "markdown",
      "source": [
        "**Change items**\n",
        "\n",
        "Just refer to the index number and assign a new value."
      ],
      "metadata": {
        "id": "Q72qsnXLHw4-"
      }
    },
    {
      "cell_type": "code",
      "source": [
        "# Lists can be altered after their creation.\n",
        "list_1[2] = '🍉'\n",
        "print(list_1)"
      ],
      "metadata": {
        "colab": {
          "base_uri": "https://localhost:8080/"
        },
        "id": "HTNmGOl7H7vH",
        "outputId": "f8843ce8-90d4-4087-c5e4-31b05167f6a3"
      },
      "execution_count": 6,
      "outputs": [
        {
          "output_type": "stream",
          "name": "stdout",
          "text": [
            "['🍌', '🍓', '🍉']\n"
          ]
        }
      ]
    }
  ]
}