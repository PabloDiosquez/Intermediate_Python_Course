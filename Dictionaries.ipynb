{
  "nbformat": 4,
  "nbformat_minor": 0,
  "metadata": {
    "colab": {
      "provenance": [],
      "authorship_tag": "ABX9TyNrMd0trGjPtgUDBJwc+n5Y",
      "include_colab_link": true
    },
    "kernelspec": {
      "name": "python3",
      "display_name": "Python 3"
    },
    "language_info": {
      "name": "python"
    }
  },
  "cells": [
    {
      "cell_type": "markdown",
      "metadata": {
        "id": "view-in-github",
        "colab_type": "text"
      },
      "source": [
        "<a href=\"https://colab.research.google.com/github/PabloDiosquez/Intermediate_Python_Course/blob/main/Dictionaries.ipynb\" target=\"_parent\"><img src=\"https://colab.research.google.com/assets/colab-badge.svg\" alt=\"Open In Colab\"/></a>"
      ]
    },
    {
      "cell_type": "markdown",
      "source": [
        "**Dictionaries**\n",
        "\n",
        "A dictionary is a collection which is unordered, changeable and indexed. A dictionary consists of a collection of key-value pairs. Each key-value pair maps the key to its associated value.\n",
        "\n",
        "A dictionary is written in braces. Each key is separated from its value by a colon (:), and the items are separated by commas.\n",
        "\n",
        "```\n",
        "my_dict = {'name': 'Max', 'age': 28, 'city': 'New York'} \n",
        "```\n",
        "\n"
      ],
      "metadata": {
        "id": "HOGqPjlLJBx8"
      }
    },
    {
      "cell_type": "markdown",
      "source": [
        "**Create a dictionary**\n",
        "\n",
        "Create a dictionary with braces, or with the built-in dict function. "
      ],
      "metadata": {
        "id": "WpGzyVyVNuIt"
      }
    },
    {
      "cell_type": "code",
      "execution_count": 16,
      "metadata": {
        "id": "kNGaBU6nDQWw",
        "colab": {
          "base_uri": "https://localhost:8080/"
        },
        "outputId": "7f05a1fb-bfba-4cb1-8267-bc6cf770e8bb"
      },
      "outputs": [
        {
          "output_type": "stream",
          "name": "stdout",
          "text": [
            "{'name': 'Max', 'age': 28, 'city': 'New York'}\n",
            "{'name': 'Max', 'age': 28, 'city': 'New York'}\n"
          ]
        }
      ],
      "source": [
        "my_dict = {'name': 'Max', 'age': 28, 'city': 'New York'}\n",
        "print(my_dict)\n",
        "\n",
        "# Or use the dict constructor; note: no quotes necessary for keys\n",
        "my_dict2 = dict(name='Max', age=28, city='New York')\n",
        "print(my_dict2)"
      ]
    },
    {
      "cell_type": "markdown",
      "source": [
        "**Access items**\n"
      ],
      "metadata": {
        "id": "W5UoG2FtOsTf"
      }
    },
    {
      "cell_type": "code",
      "source": [
        "name_in_dict = my_dict['name']\n",
        "print(name_in_dict)\n",
        "\n",
        "# Key error if no key is found\n",
        "# print(my_dict['lastname'])"
      ],
      "metadata": {
        "colab": {
          "base_uri": "https://localhost:8080/"
        },
        "id": "N1lXkbGzO0ru",
        "outputId": "68433f98-6c29-4c1d-a135-30899b8de8a4"
      },
      "execution_count": 17,
      "outputs": [
        {
          "output_type": "stream",
          "name": "stdout",
          "text": [
            "Max\n"
          ]
        }
      ]
    },
    {
      "cell_type": "markdown",
      "source": [
        "**Add and change items**\n",
        "\n",
        "Simply add or access a key and asign the value."
      ],
      "metadata": {
        "id": "K_aki2DRPIQg"
      }
    },
    {
      "cell_type": "code",
      "source": [
        "# add a new key\n",
        "my_dict['email'] = 'max@xyz.com'\n",
        "print(my_dict)\n",
        "\n",
        "# or overwrite the now existing key\n",
        "my_dict['email'] = 'coolmax@xyz.com'\n",
        "print(my_dict)"
      ],
      "metadata": {
        "colab": {
          "base_uri": "https://localhost:8080/"
        },
        "id": "ddCkJiaOPP3T",
        "outputId": "b49b386a-d3fc-4c64-fe8e-4df2d968403f"
      },
      "execution_count": 18,
      "outputs": [
        {
          "output_type": "stream",
          "name": "stdout",
          "text": [
            "{'name': 'Max', 'age': 28, 'city': 'New York', 'email': 'max@xyz.com'}\n",
            "{'name': 'Max', 'age': 28, 'city': 'New York', 'email': 'coolmax@xyz.com'}\n"
          ]
        }
      ]
    },
    {
      "cell_type": "markdown",
      "source": [
        "**Delete items**"
      ],
      "metadata": {
        "id": "Bos0mfKPPvq8"
      }
    },
    {
      "cell_type": "code",
      "source": [
        "# delete a key-value pair\n",
        "del my_dict['email']\n",
        "\n",
        "# this returns the value and removes the key-value pair\n",
        "print(f'Popped value:', my_dict2.pop('age'))\n",
        "\n",
        "# return and removes the last inserted key-value pair\n",
        "# (in versions before Python 3.7 removes an arbitrary pair)\n",
        "print('Popped item:', my_dict.popitem())\n",
        "\n",
        "print(my_dict)\n",
        "\n",
        "# clear() : remove all pairs\n",
        "# my_dict.clear()"
      ],
      "metadata": {
        "colab": {
          "base_uri": "https://localhost:8080/"
        },
        "id": "sAX4pNDKPxyU",
        "outputId": "c1a51490-1131-4698-a510-857a4c7175f8"
      },
      "execution_count": 19,
      "outputs": [
        {
          "output_type": "stream",
          "name": "stdout",
          "text": [
            "Popped value: 28\n",
            "Popped item: ('city', 'New York')\n",
            "{'name': 'Max', 'age': 28}\n"
          ]
        }
      ]
    },
    {
      "cell_type": "markdown",
      "source": [
        "**Check for keys**\n"
      ],
      "metadata": {
        "id": "s7kcMWzQTIsB"
      }
    },
    {
      "cell_type": "code",
      "source": [
        "my_dict = {'name': 'Max', 'age': 28, 'city': 'New York'}\n",
        "# use if ... in ...\n",
        "if 'name' in my_dict:\n",
        "  print(my_dict['name'])\n",
        "\n",
        "# use try except\n",
        "try:\n",
        "  print(my_dict['lastname'])\n",
        "except:\n",
        "  print('No key found')"
      ],
      "metadata": {
        "colab": {
          "base_uri": "https://localhost:8080/"
        },
        "id": "okMqvXv7TRUp",
        "outputId": "4029600b-cd27-4eed-ab84-d1a02a164711"
      },
      "execution_count": 21,
      "outputs": [
        {
          "output_type": "stream",
          "name": "stdout",
          "text": [
            "Max\n",
            "No key found\n"
          ]
        }
      ]
    },
    {
      "cell_type": "markdown",
      "source": [
        "**Looping through dictionary**\n"
      ],
      "metadata": {
        "id": "XqNeGnJcTszK"
      }
    },
    {
      "cell_type": "code",
      "source": [
        "# loop over keys\n",
        "for key in my_dict:\n",
        "  print(key, my_dict[key])\n",
        "\n",
        "# loop over keys\n",
        "for key in my_dict.keys():\n",
        "  print(key)\n",
        "\n",
        "# loop over values\n",
        "for value in my_dict:\n",
        "  print(value)\n",
        "\n",
        "# loop over keys and values\n",
        "for key, value in my_dict.items():\n",
        "  print(key, value)"
      ],
      "metadata": {
        "colab": {
          "base_uri": "https://localhost:8080/"
        },
        "id": "MVUvyhCyT1mA",
        "outputId": "217799c5-e9ac-4914-8215-232872a75449"
      },
      "execution_count": 22,
      "outputs": [
        {
          "output_type": "stream",
          "name": "stdout",
          "text": [
            "name Max\n",
            "age 28\n",
            "city New York\n",
            "name\n",
            "age\n",
            "city\n",
            "name\n",
            "age\n",
            "city\n",
            "name Max\n",
            "age 28\n",
            "city New York\n"
          ]
        }
      ]
    },
    {
      "cell_type": "markdown",
      "source": [
        "**Copy a dictionary**\n",
        "\n",
        "Be careful when copiying references."
      ],
      "metadata": {
        "id": "9VzOW2sBVU6I"
      }
    },
    {
      "cell_type": "code",
      "source": [
        "dict_org = {'name': 'Max', 'age': 28, 'city': 'New York'}\n",
        "\n",
        "# this just copies the reference to the dict, so be careful\n",
        "dict_copy = dict_org\n",
        "\n",
        "# now modifying the copy also affects the original\n",
        "dict_copy['name'] = 'Lisa'\n",
        "print(dict_copy)\n",
        "print(dict_org)\n",
        "\n",
        "# use copy(), or dict(x) to actually copty the dict\n",
        "dict_org = {'name': 'Max', 'age': 28, 'city': 'New York'}\n",
        "\n",
        "# dict_copy = dict_org.copy()\n",
        "dict_copy = dict(dict_org)\n",
        "\n",
        "# now modifying the copy does not affect the original\n",
        "dict_copy['name'] = 'Lisa'\n",
        "print(dict_copy)\n",
        "print(dict_org)"
      ],
      "metadata": {
        "colab": {
          "base_uri": "https://localhost:8080/"
        },
        "id": "2JaKvgSjVdTB",
        "outputId": "6a001d58-c71f-4ac0-ab2e-6806d601efc3"
      },
      "execution_count": 24,
      "outputs": [
        {
          "output_type": "stream",
          "name": "stdout",
          "text": [
            "{'name': 'Lisa', 'age': 28, 'city': 'New York'}\n",
            "{'name': 'Lisa', 'age': 28, 'city': 'New York'}\n",
            "{'name': 'Lisa', 'age': 28, 'city': 'New York'}\n",
            "{'name': 'Max', 'age': 28, 'city': 'New York'}\n"
          ]
        }
      ]
    },
    {
      "cell_type": "markdown",
      "source": [
        "**Merge two dictionaries**"
      ],
      "metadata": {
        "id": "aJr150s5Wmvt"
      }
    },
    {
      "cell_type": "code",
      "source": [
        "# Use the update() method to merge 2 dicts\n",
        "# existing keys are overwritten, new keys are added\n",
        "my_dict = {'name': 'Max', 'age': 28, 'city': 'New York', 'email': 'max@xyx.com'}\n",
        "my_dict2 = dict(name='Lisa', age=23, city='Boston')\n",
        "\n",
        "my_dict.update(my_dict2)\n",
        "print(my_dict)"
      ],
      "metadata": {
        "colab": {
          "base_uri": "https://localhost:8080/"
        },
        "id": "2kJqjQGrWqcM",
        "outputId": "96767965-5a3c-44d5-b709-62370ae0fd2a"
      },
      "execution_count": 25,
      "outputs": [
        {
          "output_type": "stream",
          "name": "stdout",
          "text": [
            "{'name': 'Lisa', 'age': 23, 'city': 'Boston', 'email': 'max@xyx.com'}\n"
          ]
        }
      ]
    },
    {
      "cell_type": "markdown",
      "source": [
        "**Possible key types**\n",
        "\n",
        "Any immutable type, like strings or numbers can be used as a key. Also, a tuple can be used if it contains only immutable elements."
      ],
      "metadata": {
        "id": "TmC7dVqHXiYD"
      }
    },
    {
      "cell_type": "code",
      "source": [
        "# use numbers as key, but be careful\n",
        "my_dict = {3: 9, 6: 23, 5.6: 467}\n",
        "# do not mistake the keys as indices of a list, e.g my_dict[0] is not possible here\n",
        "print(my_dict[3], my_dict[6], my_dict[5.6])\n",
        "\n",
        "# use a tuple with immutables elements (e.g number, string)\n",
        "my_tuple = (6,9)\n",
        "my_dict = {my_tuple: 'Hello'}\n",
        "print(my_dict[my_tuple])\n",
        "\n",
        "# a list is not possible because it is not immutable\n",
        "# this will raise an Error:\n",
        "# my_list = [6,9]\n",
        "# my_dict = [my_list: 'Hello']"
      ],
      "metadata": {
        "colab": {
          "base_uri": "https://localhost:8080/"
        },
        "id": "wwrrm2l3X3jd",
        "outputId": "8b8cdd4f-4955-4c87-b89c-90c1074d516a"
      },
      "execution_count": 29,
      "outputs": [
        {
          "output_type": "stream",
          "name": "stdout",
          "text": [
            "9 23 467\n",
            "Hello\n"
          ]
        }
      ]
    },
    {
      "cell_type": "markdown",
      "source": [
        "**Nested dictionaries**\n",
        "\n",
        "The values can also be container types (e.g lists, tuples, dictionaries)."
      ],
      "metadata": {
        "id": "R7fgl2zeZmTU"
      }
    },
    {
      "cell_type": "code",
      "source": [
        "my_dict_1 = {'name': 'Max', 'age': 28}\n",
        "my_dict_2 = {'name': 'Lisa', 'age': 23}\n",
        "\n",
        "nested_dict = {'dictA': my_dict_1,\n",
        "               'dictB': my_dict2}\n",
        "\n",
        "print(nested_dict)"
      ],
      "metadata": {
        "colab": {
          "base_uri": "https://localhost:8080/"
        },
        "id": "PzcgLuCkZyGc",
        "outputId": "3bbcb259-4bf4-4c44-b5d7-358ff6fd695e"
      },
      "execution_count": 30,
      "outputs": [
        {
          "output_type": "stream",
          "name": "stdout",
          "text": [
            "{'dictA': {'name': 'Max', 'age': 28}, 'dictB': {'name': 'Lisa', 'age': 23, 'city': 'Boston'}}\n"
          ]
        }
      ]
    }
  ]
}